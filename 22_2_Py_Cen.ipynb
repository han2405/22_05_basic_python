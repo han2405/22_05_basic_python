{
  "nbformat": 4,
  "nbformat_minor": 0,
  "metadata": {
    "colab": {
      "provenance": [],
      "authorship_tag": "ABX9TyNTPn3Zr7IOYpvkoWoN5Usg",
      "include_colab_link": true
    },
    "kernelspec": {
      "name": "python3",
      "display_name": "Python 3"
    },
    "language_info": {
      "name": "python"
    }
  },
  "cells": [
    {
      "cell_type": "markdown",
      "metadata": {
        "id": "view-in-github",
        "colab_type": "text"
      },
      "source": [
        "<a href=\"https://colab.research.google.com/github/han2405/22_05_basic_python/blob/main/22_2_Py_Cen.ipynb\" target=\"_parent\"><img src=\"https://colab.research.google.com/assets/colab-badge.svg\" alt=\"Open In Colab\"/></a>"
      ]
    },
    {
      "cell_type": "markdown",
      "source": [
        "19. 다음 보기의 사칙연산을 완성하시오. 한줄에 모두, 여러줄로 나누어서, 보기좋게 정리. <br>\n",
        "보기: 1 +2 , 2 -3 , 3*4 , 4/4"
      ],
      "metadata": {
        "id": "5-noRWUEThtN"
      }
    },
    {
      "cell_type": "code",
      "source": [
        "print(1 +2 , 2 -3 , 3*4 , 4/4)\n",
        " #또는\n",
        "\n",
        "print(1 +2)\n",
        "print(2 -3 )\n",
        "print( 3*4)\n",
        "print(4/4)"
      ],
      "metadata": {
        "colab": {
          "base_uri": "https://localhost:8080/"
        },
        "id": "uCGwrA9yTqvj",
        "outputId": "f00f9043-e5de-41e3-8a03-1e03f419a920"
      },
      "execution_count": 2,
      "outputs": [
        {
          "output_type": "stream",
          "name": "stdout",
          "text": [
            "3 -1 12 1.0\n",
            "3\n",
            "-1\n",
            "12\n",
            "1.0\n"
          ]
        }
      ]
    },
    {
      "cell_type": "markdown",
      "source": [
        "20. 아래의 출력화면을 간결하고 보기좋게 코딩하시오.\n",
        "****************************************\n",
        "*제 1조 1항 대한민국은 민주공화국이다.*\n",
        "****************************************\n"
      ],
      "metadata": {
        "id": "lXYU3ox3Uuon"
      }
    },
    {
      "cell_type": "code",
      "source": [
        "print(\"*\"*40)\n",
        "print(\"* 제 1조 1항 대한민국은 민주공화국이다. *\")\n",
        "print(\"*\"*40)"
      ],
      "metadata": {
        "colab": {
          "base_uri": "https://localhost:8080/"
        },
        "id": "hn11_TLyU0fR",
        "outputId": "da32324a-9612-4353-fca1-0ee2d0cd5f43"
      },
      "execution_count": 4,
      "outputs": [
        {
          "output_type": "stream",
          "name": "stdout",
          "text": [
            "****************************************\n",
            "* 제 1조 1항 대한민국은 민주공화국이다. *\n",
            "****************************************\n"
          ]
        }
      ]
    }
  ]
}