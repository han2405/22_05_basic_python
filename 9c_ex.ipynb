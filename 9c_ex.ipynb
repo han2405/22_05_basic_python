{
  "nbformat": 4,
  "nbformat_minor": 0,
  "metadata": {
    "colab": {
      "provenance": [],
      "authorship_tag": "ABX9TyPsAIBVPMzvLoumvYoz97SC",
      "include_colab_link": true
    },
    "kernelspec": {
      "name": "python3",
      "display_name": "Python 3"
    },
    "language_info": {
      "name": "python"
    }
  },
  "cells": [
    {
      "cell_type": "markdown",
      "metadata": {
        "id": "view-in-github",
        "colab_type": "text"
      },
      "source": [
        "<a href=\"https://colab.research.google.com/github/han2405/22_05_basic_python/blob/main/9c_ex.ipynb\" target=\"_parent\"><img src=\"https://colab.research.google.com/assets/colab-badge.svg\" alt=\"Open In Colab\"/></a>"
      ]
    },
    {
      "cell_type": "code",
      "source": [
        "quotes=[]\n",
        "quotes.append(\"꿈을 지녀라. 그러면 어려운 현실을 이길 수 있다.\")\n",
        "quotes.append(\"분노는 바보들의 가슴 속에서만 살아간다.\")\n",
        "quotes.append(\"고생 없이 얻을 수 있는 진실로 귀중한 것은 하나도 없다.\")\n",
        "quotes.append(\"사람은 사랑할 때 누구나 시인이 된다.\")\n",
        "KeyboardInterrupt\n",
        "quotes.append(\"시작이 반이다.\")\n",
        "\n",
        "dailyQuote=random.choice(quotes)\n",
        "print(\"#########################\")\n",
        "print(\"#오늘의 속담#\")\n",
        "print(\"#########################\")\n",
        "print(\"\")\n",
        "\n",
        "print(dailyQuote) #코랩에선 안돌아간다"
      ],
      "metadata": {
        "id": "7AXxLZ8CwjgN"
      },
      "execution_count": null,
      "outputs": []
    },
    {
      "cell_type": "code",
      "source": [
        "import turtle\n",
        "\n",
        "def draw_olympic_symbol():\n",
        "    positions=[[0, 0, \"bule\"], [-120, 0, \"purple\"], [60, 60, \"red\"],\n",
        "               [-60, 60, \"yellow\"], [-180, 60, \"green\"]]\n",
        "    for x,y,c in positions:\n",
        "        t.penup()\n",
        "        t.goto(x,y)\n",
        "        t.pendown()\n",
        "        t.color(c,c)\n",
        "        t.begin_fill()\n",
        "        t.circle(30)\n",
        "        t.end_fill()\n",
        "\n",
        "        \n",
        "t=turtle.Turtle()\n",
        "draw_olympic_symbol()"
      ],
      "metadata": {
        "id": "L8dCDQWhwuxl"
      },
      "execution_count": null,
      "outputs": []
    },
    {
      "cell_type": "code",
      "source": [
        "import turtle\n",
        "import random\n",
        "import math\n",
        "\n",
        "player=turtle.Turtle()\n",
        "player.color(\"blue\")\n",
        "player.shape(\"turtle\")\n",
        "player.penup()\n",
        "player.speed(0)\n",
        "screen=player.getscreen()\n",
        "\n",
        "\n",
        "asteroids=[] #공백리스트 생성\n",
        "for i in range(10): #10개의 터틀 생성\n",
        "    a1=turtle.Turtle()\n",
        "    a1.color(\"red\")\n",
        "    a1.shape(\"circle\")\n",
        "    a1.penup()\n",
        "    a1.speed(0)\n",
        "    a1.goto(random.randint(-300,300), random.randint(-300,300))\n",
        "    asteroids.append(a1) #생성된 터틀을 리스트에 추가\n",
        "\n",
        "def turnleft():\n",
        "    player.left(30) #왼쪽으로 30도 회전\n",
        "\n",
        "    \n",
        "def turnright():\n",
        "    player.right(30) #오른 쪽으로 30도 회전\n",
        "\n",
        "    \n",
        "screen.onkeypress(turnleft,\"Left\")\n",
        "screen.onkeypress(turnright,\"Right\")\n",
        "\n",
        "def play():\n",
        "    player.forward(2) #2픽셀 전진\n",
        "    for a in asteroids: #리스트에 저장된 모든 터틀에 대하여\n",
        "        a.right(random,randint(-180,180))\n",
        "        a.forward(2)\n",
        "    screen.ontimer(play,10) #10ms가 지나면 play()를 다시 호줄\n",
        "    \n",
        "screen.ontimer(play,10)"
      ],
      "metadata": {
        "id": "ycITxOMlzz6e"
      },
      "execution_count": null,
      "outputs": []
    },
    {
      "cell_type": "code",
      "source": [
        "items={\"커피음료\":7, \"펜\":3, \"종이컵\": 2, \"우유\":1, \"콜라\":4, \"책\":5}\n",
        "\n",
        "item=input(\"물건의 이름을 입력하시오.:\");\n",
        "print(items[item]) #리스트 대괄호/ 딕셔너리 중괄호!!!"
      ],
      "metadata": {
        "colab": {
          "base_uri": "https://localhost:8080/"
        },
        "id": "2rn7iVph4yKL",
        "outputId": "596de717-d38c-4691-859c-3f7c73627bd8"
      },
      "execution_count": 3,
      "outputs": [
        {
          "output_type": "stream",
          "name": "stdout",
          "text": [
            "물건의 이름을 입력하시오.:콜라\n",
            "4\n"
          ]
        }
      ]
    },
    {
      "cell_type": "code",
      "source": [
        "english_dict=dict()\n",
        "\n",
        "english_dict['one']='하나'\n",
        "english_dict['two']='둘'\n",
        "english_dict['three']='셋'\n",
        "\n",
        "word=input(\"단어를 입력하시오.: \");\n",
        "print(english_dict[word])"
      ],
      "metadata": {
        "colab": {
          "base_uri": "https://localhost:8080/"
        },
        "id": "MF-a2BVJ5oM_",
        "outputId": "bf387bfe-72ef-4284-af02-7c883712febb"
      },
      "execution_count": 9,
      "outputs": [
        {
          "output_type": "stream",
          "name": "stdout",
          "text": [
            "단어를 입력하시오.: one\n",
            "하나\n"
          ]
        }
      ]
    },
    {
      "cell_type": "code",
      "source": [
        "import smtplib\n",
        "from email.mime.text import MIMEText\n",
        "\n",
        "me='poqpoq123456@gmail.com' #보내는 자 메일 주소\n",
        "you='poqpoq123456@gmail.com' #받는 자 메일 주소\n",
        "contents='11월 10일 제 생일 파티에 참석해주시길 바랍니다.'\n",
        "\n",
        "msg=MIMEText(contents, _charset='euc-kr')\n",
        "msg['Subject']='생일 파티'\n",
        "msg['From']=me\n",
        "msg['To']=you\n",
        "\n",
        "server=smtplib.SMTP('smtp.gmail.com',587)\n",
        "server.ehlo()\n",
        "server.starttls()\n",
        "server.ehlo()\n",
        "\n",
        "server.login(\"자신의 아이디\",\"패스워드\")\n",
        "\n",
        "server.sendmail(me, you, msg.as_string())\n",
        "server.quit()"
      ],
      "metadata": {
        "colab": {
          "base_uri": "https://localhost:8080/",
          "height": 414
        },
        "id": "Mxkb66Sx69AI",
        "outputId": "3fb2664e-74bd-4ffe-eef5-9a10b28a128d"
      },
      "execution_count": 18,
      "outputs": [
        {
          "output_type": "error",
          "ename": "UnicodeEncodeError",
          "evalue": "ignored",
          "traceback": [
            "\u001b[0;31m---------------------------------------------------------------------------\u001b[0m",
            "\u001b[0;31mUnicodeEncodeError\u001b[0m                        Traceback (most recent call last)",
            "\u001b[0;32m<ipython-input-18-a092d256752e>\u001b[0m in \u001b[0;36m<module>\u001b[0;34m\u001b[0m\n\u001b[1;32m     16\u001b[0m \u001b[0mserver\u001b[0m\u001b[0;34m.\u001b[0m\u001b[0mehlo\u001b[0m\u001b[0;34m(\u001b[0m\u001b[0;34m)\u001b[0m\u001b[0;34m\u001b[0m\u001b[0;34m\u001b[0m\u001b[0m\n\u001b[1;32m     17\u001b[0m \u001b[0;34m\u001b[0m\u001b[0m\n\u001b[0;32m---> 18\u001b[0;31m \u001b[0mserver\u001b[0m\u001b[0;34m.\u001b[0m\u001b[0mlogin\u001b[0m\u001b[0;34m(\u001b[0m\u001b[0;34m\"자신의 아이디\"\u001b[0m\u001b[0;34m,\u001b[0m\u001b[0;34m\"패스워드\"\u001b[0m\u001b[0;34m)\u001b[0m\u001b[0;34m\u001b[0m\u001b[0;34m\u001b[0m\u001b[0m\n\u001b[0m\u001b[1;32m     19\u001b[0m \u001b[0;34m\u001b[0m\u001b[0m\n\u001b[1;32m     20\u001b[0m \u001b[0mserver\u001b[0m\u001b[0;34m.\u001b[0m\u001b[0msendmail\u001b[0m\u001b[0;34m(\u001b[0m\u001b[0mme\u001b[0m\u001b[0;34m,\u001b[0m \u001b[0myou\u001b[0m\u001b[0;34m,\u001b[0m \u001b[0mmsg\u001b[0m\u001b[0;34m.\u001b[0m\u001b[0mas_string\u001b[0m\u001b[0;34m(\u001b[0m\u001b[0;34m)\u001b[0m\u001b[0;34m)\u001b[0m\u001b[0;34m\u001b[0m\u001b[0;34m\u001b[0m\u001b[0m\n",
            "\u001b[0;32m/usr/lib/python3.7/smtplib.py\u001b[0m in \u001b[0;36mlogin\u001b[0;34m(self, user, password, initial_response_ok)\u001b[0m\n\u001b[1;32m    724\u001b[0m                 (code, resp) = self.auth(\n\u001b[1;32m    725\u001b[0m                     \u001b[0mauthmethod\u001b[0m\u001b[0;34m,\u001b[0m \u001b[0mgetattr\u001b[0m\u001b[0;34m(\u001b[0m\u001b[0mself\u001b[0m\u001b[0;34m,\u001b[0m \u001b[0mmethod_name\u001b[0m\u001b[0;34m)\u001b[0m\u001b[0;34m,\u001b[0m\u001b[0;34m\u001b[0m\u001b[0;34m\u001b[0m\u001b[0m\n\u001b[0;32m--> 726\u001b[0;31m                     initial_response_ok=initial_response_ok)\n\u001b[0m\u001b[1;32m    727\u001b[0m                 \u001b[0;31m# 235 == 'Authentication successful'\u001b[0m\u001b[0;34m\u001b[0m\u001b[0;34m\u001b[0m\u001b[0;34m\u001b[0m\u001b[0m\n\u001b[1;32m    728\u001b[0m                 \u001b[0;31m# 503 == 'Error: already authenticated'\u001b[0m\u001b[0;34m\u001b[0m\u001b[0;34m\u001b[0m\u001b[0;34m\u001b[0m\u001b[0m\n",
            "\u001b[0;32m/usr/lib/python3.7/smtplib.py\u001b[0m in \u001b[0;36mauth\u001b[0;34m(self, mechanism, authobject, initial_response_ok)\u001b[0m\n\u001b[1;32m    633\u001b[0m         \u001b[0minitial_response\u001b[0m \u001b[0;34m=\u001b[0m \u001b[0;34m(\u001b[0m\u001b[0mauthobject\u001b[0m\u001b[0;34m(\u001b[0m\u001b[0;34m)\u001b[0m \u001b[0;32mif\u001b[0m \u001b[0minitial_response_ok\u001b[0m \u001b[0;32melse\u001b[0m \u001b[0;32mNone\u001b[0m\u001b[0;34m)\u001b[0m\u001b[0;34m\u001b[0m\u001b[0;34m\u001b[0m\u001b[0m\n\u001b[1;32m    634\u001b[0m         \u001b[0;32mif\u001b[0m \u001b[0minitial_response\u001b[0m \u001b[0;32mis\u001b[0m \u001b[0;32mnot\u001b[0m \u001b[0;32mNone\u001b[0m\u001b[0;34m:\u001b[0m\u001b[0;34m\u001b[0m\u001b[0;34m\u001b[0m\u001b[0m\n\u001b[0;32m--> 635\u001b[0;31m             \u001b[0mresponse\u001b[0m \u001b[0;34m=\u001b[0m \u001b[0mencode_base64\u001b[0m\u001b[0;34m(\u001b[0m\u001b[0minitial_response\u001b[0m\u001b[0;34m.\u001b[0m\u001b[0mencode\u001b[0m\u001b[0;34m(\u001b[0m\u001b[0;34m'ascii'\u001b[0m\u001b[0;34m)\u001b[0m\u001b[0;34m,\u001b[0m \u001b[0meol\u001b[0m\u001b[0;34m=\u001b[0m\u001b[0;34m''\u001b[0m\u001b[0;34m)\u001b[0m\u001b[0;34m\u001b[0m\u001b[0;34m\u001b[0m\u001b[0m\n\u001b[0m\u001b[1;32m    636\u001b[0m             \u001b[0;34m(\u001b[0m\u001b[0mcode\u001b[0m\u001b[0;34m,\u001b[0m \u001b[0mresp\u001b[0m\u001b[0;34m)\u001b[0m \u001b[0;34m=\u001b[0m \u001b[0mself\u001b[0m\u001b[0;34m.\u001b[0m\u001b[0mdocmd\u001b[0m\u001b[0;34m(\u001b[0m\u001b[0;34m\"AUTH\"\u001b[0m\u001b[0;34m,\u001b[0m \u001b[0mmechanism\u001b[0m \u001b[0;34m+\u001b[0m \u001b[0;34m\" \"\u001b[0m \u001b[0;34m+\u001b[0m \u001b[0mresponse\u001b[0m\u001b[0;34m)\u001b[0m\u001b[0;34m\u001b[0m\u001b[0;34m\u001b[0m\u001b[0m\n\u001b[1;32m    637\u001b[0m         \u001b[0;32melse\u001b[0m\u001b[0;34m:\u001b[0m\u001b[0;34m\u001b[0m\u001b[0;34m\u001b[0m\u001b[0m\n",
            "\u001b[0;31mUnicodeEncodeError\u001b[0m: 'ascii' codec can't encode characters in position 1-3: ordinal not in range(128)"
          ]
        }
      ]
    }
  ]
}