{
  "nbformat": 4,
  "nbformat_minor": 0,
  "metadata": {
    "colab": {
      "provenance": [],
      "authorship_tag": "ABX9TyN8XM26nIk7q4vfaQPMFbXD",
      "include_colab_link": true
    },
    "kernelspec": {
      "name": "python3",
      "display_name": "Python 3"
    },
    "language_info": {
      "name": "python"
    }
  },
  "cells": [
    {
      "cell_type": "markdown",
      "metadata": {
        "id": "view-in-github",
        "colab_type": "text"
      },
      "source": [
        "<a href=\"https://colab.research.google.com/github/han2405/22_05_basic_python/blob/main/chap3.ipynb\" target=\"_parent\"><img src=\"https://colab.research.google.com/assets/colab-badge.svg\" alt=\"Open In Colab\"/></a>"
      ]
    },
    {
      "cell_type": "code",
      "source": [
        "x=10\n",
        "print(\"x =\",x)\n",
        "x=3.14\n",
        "print(\"x =\",x)\n",
        "x=\"hello world!\"\n",
        "print(\"x =\", x)"
      ],
      "metadata": {
        "colab": {
          "base_uri": "https://localhost:8080/"
        },
        "id": "L-a3zAbNM_7b",
        "outputId": "67115871-979d-47b5-8791-c85981f4b4fc"
      },
      "execution_count": 4,
      "outputs": [
        {
          "output_type": "stream",
          "name": "stdout",
          "text": [
            "x = 10\n",
            "x = 3.14\n",
            "x = hello world!\n"
          ]
        }
      ]
    },
    {
      "cell_type": "code",
      "source": [
        "x=input(\"정수를 입력하시오;\")\n",
        "y=input(\"정수를 입력하시오;\")\n",
        "print(x+y)"
      ],
      "metadata": {
        "colab": {
          "base_uri": "https://localhost:8080/"
        },
        "id": "bsO5hFVSOZwV",
        "outputId": "0165006f-6342-4a4f-bf8e-3727ecb8c92f"
      },
      "execution_count": 7,
      "outputs": [
        {
          "output_type": "stream",
          "name": "stdout",
          "text": [
            "정수를 입력하시오;100\n",
            "정수를 입력하시오;200\n",
            "100200\n"
          ]
        }
      ]
    },
    {
      "cell_type": "markdown",
      "source": [
        "문자열을 숫자로 변환하지 않아서 \n",
        "int(): 문자열->정수\n",
        "float(): 문자열->실수"
      ],
      "metadata": {
        "id": "2bFZ98yUTwUM"
      }
    },
    {
      "cell_type": "code",
      "source": [
        "x=int(input(\"정수를 입력하시오;\"))\n",
        "y=int(input(\"정수를 입력하시오;\"))\n",
        "print(x+y)"
      ],
      "metadata": {
        "colab": {
          "base_uri": "https://localhost:8080/"
        },
        "id": "8r9thxt1TWd5",
        "outputId": "99259705-57ae-47bf-8a4a-8c8297096f50"
      },
      "execution_count": 8,
      "outputs": [
        {
          "output_type": "stream",
          "name": "stdout",
          "text": [
            "정수를 입력하시오;100\n",
            "정수를 입력하시오;200\n",
            "300\n"
          ]
        }
      ]
    },
    {
      "cell_type": "code",
      "source": [
        "t=input(\"정수를 입력하시오:\")\n",
        "x=int(t)\n",
        "\n",
        "t=input(\"정수를 입력하시오:\")\n",
        "y=int(t)\n",
        "\n",
        "print(x+y)"
      ],
      "metadata": {
        "colab": {
          "base_uri": "https://localhost:8080/"
        },
        "id": "NH4w_fyTTu1Q",
        "outputId": "4dae1f7f-9367-4725-8609-baca112670ca"
      },
      "execution_count": 10,
      "outputs": [
        {
          "output_type": "stream",
          "name": "stdout",
          "text": [
            "정수를 입력하시오:100\n",
            "정수를 입력하시오:200\n",
            "300\n"
          ]
        }
      ]
    }
  ]
}